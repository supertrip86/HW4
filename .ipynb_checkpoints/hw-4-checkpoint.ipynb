{
 "cells": [
  {
   "cell_type": "code",
   "execution_count": 5,
   "metadata": {},
   "outputs": [],
   "source": [
    "import pandas as pd\n",
    "import random"
   ]
  },
  {
   "cell_type": "code",
   "execution_count": 2,
   "metadata": {},
   "outputs": [],
   "source": [
    "dataset = pd.read_csv('hash.txt')"
   ]
  },
  {
   "cell_type": "code",
   "execution_count": 6,
   "metadata": {},
   "outputs": [
    {
     "data": {
      "text/html": [
       "<div>\n",
       "<style scoped>\n",
       "    .dataframe tbody tr th:only-of-type {\n",
       "        vertical-align: middle;\n",
       "    }\n",
       "\n",
       "    .dataframe tbody tr th {\n",
       "        vertical-align: top;\n",
       "    }\n",
       "\n",
       "    .dataframe thead th {\n",
       "        text-align: right;\n",
       "    }\n",
       "</style>\n",
       "<table border=\"1\" class=\"dataframe\">\n",
       "  <thead>\n",
       "    <tr style=\"text-align: right;\">\n",
       "      <th></th>\n",
       "      <th>844082e02a27ddee8d99ea1af94a2969</th>\n",
       "    </tr>\n",
       "  </thead>\n",
       "  <tbody>\n",
       "    <tr>\n",
       "      <th>0</th>\n",
       "      <td>ff96d6665b5c59d3a70bb8f2ba4f10be</td>\n",
       "    </tr>\n",
       "    <tr>\n",
       "      <th>1</th>\n",
       "      <td>b64a85884e2b159829331c19e05dbac9</td>\n",
       "    </tr>\n",
       "    <tr>\n",
       "      <th>2</th>\n",
       "      <td>1c8836719e84867c26ba2cfeb372c53d</td>\n",
       "    </tr>\n",
       "    <tr>\n",
       "      <th>3</th>\n",
       "      <td>b66f73ffd9008d9c99159e164261df51</td>\n",
       "    </tr>\n",
       "    <tr>\n",
       "      <th>4</th>\n",
       "      <td>5f414364fde0ca5a72b5a4313d5266aa</td>\n",
       "    </tr>\n",
       "    <tr>\n",
       "      <th>5</th>\n",
       "      <td>fdcb0c09722ea060d81cba08681a29b9</td>\n",
       "    </tr>\n",
       "    <tr>\n",
       "      <th>6</th>\n",
       "      <td>0ebca291ec5fa3f2146eb1c3a219fe13</td>\n",
       "    </tr>\n",
       "    <tr>\n",
       "      <th>7</th>\n",
       "      <td>1ed24bee346c4c34a491a3db6ce41e73</td>\n",
       "    </tr>\n",
       "    <tr>\n",
       "      <th>8</th>\n",
       "      <td>4d6289943c24816060240ddff3c530d7</td>\n",
       "    </tr>\n",
       "    <tr>\n",
       "      <th>9</th>\n",
       "      <td>a7ec5b0242cde479dcd29b1d95af1d0c</td>\n",
       "    </tr>\n",
       "  </tbody>\n",
       "</table>\n",
       "</div>"
      ],
      "text/plain": [
       "   844082e02a27ddee8d99ea1af94a2969\n",
       "0  ff96d6665b5c59d3a70bb8f2ba4f10be\n",
       "1  b64a85884e2b159829331c19e05dbac9\n",
       "2  1c8836719e84867c26ba2cfeb372c53d\n",
       "3  b66f73ffd9008d9c99159e164261df51\n",
       "4  5f414364fde0ca5a72b5a4313d5266aa\n",
       "5  fdcb0c09722ea060d81cba08681a29b9\n",
       "6  0ebca291ec5fa3f2146eb1c3a219fe13\n",
       "7  1ed24bee346c4c34a491a3db6ce41e73\n",
       "8  4d6289943c24816060240ddff3c530d7\n",
       "9  a7ec5b0242cde479dcd29b1d95af1d0c"
      ]
     },
     "execution_count": 6,
     "metadata": {},
     "output_type": "execute_result"
    }
   ],
   "source": [
    "dataset.head(10)"
   ]
  },
  {
   "cell_type": "code",
   "execution_count": null,
   "metadata": {},
   "outputs": [],
   "source": [
    "def trailing_zeroes(num):\n",
    "  \"\"\"Counts the number of trailing 0 bits in num.\"\"\"\n",
    "  if num == 0:\n",
    "    return 32 # Assumes 32 bit integer inputs!\n",
    "  p = 0\n",
    "  while (num >> p) & 1 == 0:\n",
    "    p += 1\n",
    "  return p\n",
    "\n",
    "def estimate_cardinality(values, k):\n",
    "  \"\"\"Estimates the number of unique elements in the input set values.\n",
    "\n",
    "  Arguments:\n",
    "    values: An iterator of hashable elements to estimate the cardinality of.\n",
    "    k: The number of bits of hash to use as a bucket number; there will be 2**k buckets.\n",
    "  \"\"\"\n",
    "  num_buckets = 2 ** k\n",
    "  max_zeroes = [0] * num_buckets\n",
    "  for value in values:\n",
    "    h = hash(value)\n",
    "    bucket = h & (num_buckets - 1) # Mask out the k least significant bits as bucket ID\n",
    "    bucket_hash = h >> k\n",
    "    max_zeroes[bucket] = max(max_zeroes[bucket], trailing_zeroes(bucket_hash))\n",
    "  return 2 ** (float(sum(max_zeroes)) / num_buckets) * num_buckets * 0.79402"
   ]
  },
  {
   "cell_type": "code",
   "execution_count": null,
   "metadata": {},
   "outputs": [],
   "source": [
    "[100000/estimate_cardinality([random.random() for i in range(100000)], 10) for j in range(10)]"
   ]
  },
  {
   "cell_type": "code",
   "execution_count": 10,
   "metadata": {},
   "outputs": [
    {
     "data": {
      "text/plain": [
       "138999999"
      ]
     },
     "execution_count": 10,
     "metadata": {},
     "output_type": "execute_result"
    }
   ],
   "source": [
    "len(dataset)"
   ]
  },
  {
   "cell_type": "code",
   "execution_count": null,
   "metadata": {},
   "outputs": [],
   "source": [
    "# for each line in dataset, pass line value into \"hash\" function (to be defined)\n",
    "# each hash value to be stored in a list\n",
    "# pass list to function to estimate cardinality\n",
    "# function to estimate cardinality has to: \n",
    "# 1) split hash into buckets (according to value \"k\")\n",
    "# 2) compute min-value, and get size of min value (between 0 and k) = h\n",
    "# 3) according to the size of min-value, calculate number of unique elements in dataset (2^h)"
   ]
  }
 ],
 "metadata": {
  "kernelspec": {
   "display_name": "Python 3",
   "language": "python",
   "name": "python3"
  },
  "language_info": {
   "codemirror_mode": {
    "name": "ipython",
    "version": 3
   },
   "file_extension": ".py",
   "mimetype": "text/x-python",
   "name": "python",
   "nbconvert_exporter": "python",
   "pygments_lexer": "ipython3",
   "version": "3.8.3"
  }
 },
 "nbformat": 4,
 "nbformat_minor": 4
}
