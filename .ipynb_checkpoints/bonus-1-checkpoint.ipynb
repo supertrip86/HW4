{
 "cells": [
  {
   "cell_type": "code",
   "execution_count": 4,
   "metadata": {},
   "outputs": [],
   "source": [
    "import pandas as pd\n",
    "import numpy as np\n",
    "import matplotlib.pyplot as plt\n",
    "from scipy.integrate import quad\n",
    "import itertools\n",
    "import statistics\n",
    "import hyperloglog\n",
    "import json\n",
    "import math"
   ]
  },
  {
   "cell_type": "code",
   "execution_count": 5,
   "metadata": {},
   "outputs": [],
   "source": [
    "dataset = pd.read_csv('hash.txt', header=None)"
   ]
  },
  {
   "cell_type": "code",
   "execution_count": 64,
   "metadata": {},
   "outputs": [],
   "source": [
    "from hashlib import sha1\n",
    "\n",
    "b = 16\n",
    "values = [int(\"\".join(map(str, list(i))), 2) for i in itertools.product([0, 1], repeat=b)]\n",
    "db = {x: 0 for x in values}\n",
    "\n",
    "def customHyperLogLog(value, b):\n",
    "    x = int(sha1(bytes(value.encode('utf8') if isinstance(value, str) else value)).hexdigest()[:16], 16)\n",
    "    bucket = int(x[1:b+1], 2)\n",
    "    rest = x[b+1:]\n",
    "    count = 0\n",
    "    for char in rest:\n",
    "        if char == '0':\n",
    "            count += 1\n",
    "        else:\n",
    "            count += 1\n",
    "            break\n",
    "\n",
    "    if db[bucket] < count:\n",
    "        db[bucket] = count\n",
    "\n",
    "    if (i % 10000000) == 0:\n",
    "        print(i)"
   ]
  },
  {
   "cell_type": "code",
   "execution_count": null,
   "metadata": {},
   "outputs": [],
   "source": [
    "for i, row in dataset.iterrows():\n",
    "    value = row[0]\n",
    "    customHyperLogLog(value, b)"
   ]
  },
  {
   "cell_type": "code",
   "execution_count": null,
   "metadata": {},
   "outputs": [],
   "source": [
    "a = list(db.values())\n",
    "\n",
    "plt.plot(a)\n",
    "plt.show()"
   ]
  },
  {
   "cell_type": "code",
   "execution_count": null,
   "metadata": {},
   "outputs": [],
   "source": [
    "def integrand(x, m):\n",
    "    return math.log((2 + x) / (1 + x), 2)**m\n",
    "\n",
    "def calc_z(values):\n",
    "    z = 0\n",
    "    for x in values:\n",
    "        z += 2 ** (-x)\n",
    "    return z\n",
    "\n",
    "m = len(dt)\n",
    "values = list(dt.values())\n",
    "z = calc_z(values)\n",
    "# alpha_m = 1 / (m * quad(integrand, 0, np.inf, args=(m))[0])\n",
    "alpha = 0.7213/(1 + 1.079 / m )\n",
    "E = round((alpha * float(m**2)) / z)\n",
    "\n",
    "E"
   ]
  },
  {
   "cell_type": "code",
   "execution_count": null,
   "metadata": {},
   "outputs": [],
   "source": []
  },
  {
   "cell_type": "code",
   "execution_count": null,
   "metadata": {},
   "outputs": [],
   "source": []
  },
  {
   "cell_type": "code",
   "execution_count": null,
   "metadata": {},
   "outputs": [],
   "source": []
  },
  {
   "cell_type": "code",
   "execution_count": null,
   "metadata": {},
   "outputs": [],
   "source": []
  },
  {
   "cell_type": "code",
   "execution_count": null,
   "metadata": {},
   "outputs": [],
   "source": []
  },
  {
   "cell_type": "code",
   "execution_count": 6,
   "metadata": {},
   "outputs": [],
   "source": [
    "p = 16\n",
    "m = 2**p\n",
    "\n",
    "value = '844082e02a27ddee8d99ea1af94a2969'\n",
    "x = int(sha1(bytes(value.encode('utf8') if isinstance(value, str) else value)).hexdigest()[:16], 16)\n",
    "\n",
    "j = x & (m - 1)\n",
    "w = x >> p"
   ]
  },
  {
   "cell_type": "code",
   "execution_count": 47,
   "metadata": {},
   "outputs": [
    {
     "data": {
      "text/plain": [
       "8490283704677021926"
      ]
     },
     "execution_count": 47,
     "metadata": {},
     "output_type": "execute_result"
    }
   ],
   "source": [
    "x"
   ]
  },
  {
   "cell_type": "code",
   "execution_count": 12,
   "metadata": {},
   "outputs": [
    {
     "data": {
      "text/plain": [
       "47334"
      ]
     },
     "execution_count": 12,
     "metadata": {},
     "output_type": "execute_result"
    }
   ],
   "source": [
    "j"
   ]
  },
  {
   "cell_type": "code",
   "execution_count": 11,
   "metadata": {},
   "outputs": [
    {
     "data": {
      "text/plain": [
       "129551448130447"
      ]
     },
     "execution_count": 11,
     "metadata": {},
     "output_type": "execute_result"
    }
   ],
   "source": [
    "w"
   ]
  }
 ],
 "metadata": {
  "kernelspec": {
   "display_name": "Python 3",
   "language": "python",
   "name": "python3"
  },
  "language_info": {
   "codemirror_mode": {
    "name": "ipython",
    "version": 3
   },
   "file_extension": ".py",
   "mimetype": "text/x-python",
   "name": "python",
   "nbconvert_exporter": "python",
   "pygments_lexer": "ipython3",
   "version": "3.8.3"
  }
 },
 "nbformat": 4,
 "nbformat_minor": 4
}
